{
 "cells": [
  {
   "cell_type": "code",
   "execution_count": 1,
   "metadata": {
    "collapsed": false
   },
   "outputs": [
    {
     "name": "stdout",
     "output_type": "stream",
     "text": [
      "Num drive log image paths: 11025\n",
      "Num drive log steering angles: 11025\n",
      "Min drive log steering angle: -1.23762889856\n",
      "Max drive log steering angle: 1.28507009882\n"
     ]
    },
    {
     "data": {
      "image/png": "[encoded data removed]",
      "text/plain": [
       "<matplotlib.figure.Figure at 0x7fb93b9b2d30>"
      ]
     },
     "metadata": {},
     "output_type": "display_data"
    }
   ],
   "source": [
    "import numpy as np\n",
    "import csv\n",
    "import matplotlib.pyplot as plt\n",
    "import matplotlib.image as mpimg\n",
    "%matplotlib inline\n",
    "\n",
    "drive_log_image_paths = [] #file paths (left, center, and right images are all folded in to this vector of image paths)\n",
    "drive_log_steering_angles = [] #steering angle associated with drive_log_image_paths\n",
    "angle_offset = 0.3\n",
    "cur_steering_angle = 0.0\n",
    "\n",
    "#load the driving log data (folding in the left, center, and right images into one vector)\n",
    "with open('driving_log.csv') as file_handle:\n",
    "    #view file rows as a dictionary (based on header row)\n",
    "    dict_reader = csv.DictReader(file_handle)\n",
    "    #get current row as dictionary\n",
    "    for cur_dict_line in dict_reader:\n",
    "        #get steering angle from cur_row\n",
    "        cur_steering_angle = float(cur_dict_line['steering']) \n",
    "        #get rid of zero degree angles\n",
    "        if (cur_steering_angle != 0):\n",
    "            #add the left, center, and right image paths from cur_row \n",
    "            drive_log_image_paths.append((cur_dict_line['left']).strip())\n",
    "            drive_log_image_paths.append((cur_dict_line['center']).strip())\n",
    "            drive_log_image_paths.append((cur_dict_line['right']).strip())\n",
    "            #append steering angle + angle offset (for left)\n",
    "            drive_log_steering_angles.append(cur_steering_angle + np.random.uniform(low=0.2, high=angle_offset))\n",
    "            #append center steering angle (no change)\n",
    "            drive_log_steering_angles.append(cur_steering_angle)\n",
    "            #append steering angle - angle offset (for right)\n",
    "            drive_log_steering_angles.append(cur_steering_angle - np.random.uniform(low=0.2, high=angle_offset))\n",
    "        \n",
    "#convert to array\n",
    "drive_log_steering_angles = np.array(drive_log_steering_angles)\n",
    "drive_log_image_paths = np.array(drive_log_image_paths)\n",
    "print(\"Num drive log image paths:\", len(drive_log_image_paths))\n",
    "print(\"Num drive log steering angles:\", len(drive_log_steering_angles))\n",
    "print(\"Min drive log steering angle:\", min(drive_log_steering_angles))\n",
    "print(\"Max drive log steering angle:\", max(drive_log_steering_angles))\n",
    "num_bins = 100\n",
    "plt.hist(drive_log_steering_angles, num_bins, facecolor='g')\n",
    "plt.xlabel('Steering Angle (in degrees)')\n",
    "plt.ylabel('Number of Occurrences')\n",
    "plt.show()"
   ]
  },
  {
   "cell_type": "code",
   "execution_count": 2,
   "metadata": {
    "collapsed": true
   },
   "outputs": [],
   "source": [
    "from sklearn.utils import shuffle\n",
    "\n",
    "#shuffle data\n",
    "drive_log_image_paths, drive_log_steering_angles = shuffle(drive_log_image_paths, drive_log_steering_angles)"
   ]
  },
  {
   "cell_type": "code",
   "execution_count": 3,
   "metadata": {
    "collapsed": false
   },
   "outputs": [
    {
     "name": "stdout",
     "output_type": "stream",
     "text": [
      "X_train shape:  (8820,)\n",
      "y_train shape:  (8820,)\n",
      "X_validation shape:  (2205,)\n",
      "y_validation shape:  (2205,)\n"
     ]
    }
   ],
   "source": [
    "from sklearn.model_selection import train_test_split\n",
    "\n",
    "#carve out a portion of the training set to use for model validation\n",
    "X_train, X_validation, y_train, y_validation = train_test_split(drive_log_image_paths, drive_log_steering_angles, \\\n",
    "                                                                test_size=0.2, random_state=0)\n",
    "print(\"X_train shape: \", X_train.shape)\n",
    "print(\"y_train shape: \", y_train.shape)\n",
    "print(\"X_validation shape: \", X_validation.shape)\n",
    "print(\"y_validation shape: \", y_validation.shape)"
   ]
  },
  {
   "cell_type": "code",
   "execution_count": 4,
   "metadata": {
    "collapsed": false
   },
   "outputs": [
    {
     "name": "stdout",
     "output_type": "stream",
     "text": [
      "X_validation shape:  (2205, 160, 320, 3)\n"
     ]
    }
   ],
   "source": [
    "import matplotlib.image as mpimg\n",
    "\n",
    "#Process validation data\n",
    "X_validation_temp = []\n",
    "\n",
    "#load images\n",
    "for image_path in X_validation:\n",
    "    image = mpimg.imread(image_path)\n",
    "    X_validation_temp.append(image)\n",
    "    \n",
    "X_validation = np.array(X_validation_temp)    \n",
    "\n",
    "print(\"X_validation shape: \", X_validation.shape)\n",
    "\n",
    "## VALIDATION ##\n",
    "#convert to float\n",
    "#X_validation = X_validation.astype(np.float)\n",
    "#normalize\n",
    "#X_validation /= 255.0\n",
    "\n",
    "## CROP ##\n",
    "#def crop_validation(X):\n",
    "#    return X[:, 70:136, 60:260]\n",
    "\n",
    "#print(\"Pre-crop shape:\", X_validation.shape)\n",
    "#X_validation = crop_validation(X_validation)\n",
    "#print(\"Post-crop shape:\", X_validation.shape)"
   ]
  },
  {
   "cell_type": "code",
   "execution_count": 5,
   "metadata": {
    "collapsed": false
   },
   "outputs": [
    {
     "name": "stderr",
     "output_type": "stream",
     "text": [
      "Using TensorFlow backend.\n"
     ]
    }
   ],
   "source": [
    "from keras.models import Sequential\n",
    "from keras.layers import Cropping2D, Lambda\n",
    "from keras.layers.core import Dense, Flatten, Dropout\n",
    "from keras.layers.convolutional import Convolution2D\n",
    "\n",
    "#NVIDIA model\n",
    "def cnn_model():\n",
    "    model = Sequential()\n",
    "    #CROP: Input = 160x320x3, Output = 66x200x3\n",
    "    model.add(Cropping2D(cropping=((70, 24), (60, 60)), input_shape=(160, 320, 3)))\n",
    "    #NORMALIZE: Input = 66x200x3, Output = 66x200x3\n",
    "    model.add(Lambda(lambda x: x / 255))\n",
    "    ## LAYER 1 ##\n",
    "    #CONVOLUTIONAL: Input = 66x200x3, Output = 31x98x24\n",
    "    #filter: 5x5, input depth: 3, output depth: 24\n",
    "    model.add(Convolution2D(24, 5, 5, subsample=(2, 2), border_mode='valid', activation=\"relu\", init='lecun_uniform'))\n",
    "    ## LAYER 2 ##\n",
    "    #CONVOLUTIONAL: Input = 31x98x24, Output = 14x47x36\n",
    "    #filter: 5x5, input depth: 24, output depth: 36\n",
    "    model.add(Convolution2D(36, 5, 5, subsample=(2, 2), border_mode='valid', activation=\"relu\", init='lecun_uniform'))\n",
    "    ## LAYER 3 ##\n",
    "    #CONVOLUTIONAL: Input = 14x47x36, Output = 5x22x48\n",
    "    #filter: 5x5, input depth: 36, output depth: 48\n",
    "    model.add(Convolution2D(48, 5, 5, subsample=(2, 2), border_mode='valid', activation=\"relu\", init='lecun_uniform'))\n",
    "    ## LAYER 4 ##\n",
    "    #CONVOLUTIONAL: Input = 5x22x48, Output = 3x20x64\n",
    "    #filter: 3x3, input depth: 48, output depth: 64\n",
    "    model.add(Convolution2D(64, 3, 3, subsample=(1, 1), border_mode='valid', activation=\"relu\", init='lecun_uniform'))\n",
    "    ## LAYER 5 ##\n",
    "    #CONVOLUTIONAL: Input = 3x20x64, Output = 1x18x64\n",
    "    #filter: 3x3, input depth: 64, output depth: 64\n",
    "    model.add(Convolution2D(64, 3, 3, subsample=(1, 1), border_mode='valid', activation=\"relu\", init='lecun_uniform'))\n",
    "    #FLATTEN INPUT WHILE RETAINING BATCH: Input = 1x18x64, Output = 1152x1\n",
    "    model.add(Flatten())\n",
    "    ## LAYER 6 ##\n",
    "    #FULLY-CONNECTED: Input = 1152, Output = 100\n",
    "    model.add(Dense(100, activation='relu', init='lecun_uniform'))\n",
    "    ## LAYER 7 ##\n",
    "    #FULLY-CONNECTED: Input = 100, Output = 50\n",
    "    model.add(Dense(50, activation='relu', init='lecun_uniform'))\n",
    "    #REGULARIZATION: Dropout\n",
    "    model.add(Dropout(0.5))\n",
    "    ## LAYER 8 ##\n",
    "    #FULLY-CONNECTED: Input = 50, Output = 10\n",
    "    model.add(Dense(10, activation='relu', init='lecun_uniform'))\n",
    "    #REGULARIZATION: Dropout\n",
    "    model.add(Dropout(0.5))\n",
    "    ## OUTPUT LAYER ##\n",
    "    #FULLY-CONNECTED: Input = 10, Output = 1\n",
    "    model.add(Dense(1, init='lecun_uniform'))\n",
    "    return model"
   ]
  },
  {
   "cell_type": "code",
   "execution_count": 6,
   "metadata": {
    "collapsed": true
   },
   "outputs": [],
   "source": [
    "import matplotlib.image as mpimg\n",
    "from sklearn.utils import shuffle\n",
    "import random\n",
    "import cv2\n",
    "\n",
    "#rotate training example\n",
    "def generate_rotation_matrix(image, steering_angle):\n",
    "    #determine center point of source (training_example) --- used for center of rotation\n",
    "    object_center_point = ((image.shape[1] / 2), (image.shape[0] / 2))\n",
    "    #keep original scale of image\n",
    "    object_scale = 1\n",
    "    #randomly select an angle within a uniform distribution (rotation-factor, negative is clock-wise)\n",
    "    object_rotation_angle = np.random.uniform(low=-5, high=5)\n",
    "    #adjust steering angle based on x translation (invert sign of result given negative rotation is clock-wise)\n",
    "    steering_angle += -(object_rotation_angle * 0.1)\n",
    "    #return rotation matrix based on above values\n",
    "    return (cv2.getRotationMatrix2D(object_center_point, object_rotation_angle, object_scale), steering_angle)   \n",
    "    \n",
    "#translate (change position of) training example\n",
    "#translation matrix found here: http://docs.opencv.org/trunk/da/d6e/tutorial_py_geometric_transformations.html\n",
    "def generate_translation_matrix(image, steering_angle):\n",
    "    #randomly translate x\n",
    "    translated_x = np.random.uniform(low=-15, high=15)\n",
    "    #adjust steering angle based on x translation\n",
    "    steering_angle += translated_x * 0.005\n",
    "    #randomly translate y\n",
    "    translated_y = np.random.uniform(low=-15, high=15)\n",
    "    #return translation matrix based on above values\n",
    "    return (np.float32([[1, 0, translated_x],[0, 1, translated_y]]), steering_angle)\n",
    "\n",
    "#perform brightness adjustment (brighten or darken)\n",
    "def perform_brightness_adjustment(image, steering_angle):\n",
    "    #convert RGB to HSV\n",
    "    hsv = cv2.cvtColor(image, cv2.COLOR_RGB2HSV)\n",
    "    #randomly adjust V channel\n",
    "    hsv[:, :, 2] = hsv[:, :, 2] * np.random.uniform(low=0.2, high=1.0)\n",
    "    #convert back to RGB and return (steering angle is unaltered)\n",
    "    return (cv2.cvtColor(hsv, cv2.COLOR_HSV2RGB), steering_angle)\n",
    "\n",
    "#randomly rotate object (within specified matrix bounds)\n",
    "def perform_rotation(image, steering_angle):\n",
    "    #get rotation matrix along with adjusted steering angle\n",
    "    object_transform_matrix, steering_angle = generate_rotation_matrix(image, steering_angle)\n",
    "    #return randomly rotated image with adjusted steering angle\n",
    "    return (cv2.warpAffine(image, object_transform_matrix, (image.shape[1], image.shape[0])), steering_angle)\n",
    "\n",
    "#perform y-axis flip\n",
    "def perform_y_axis_flip(image, steering_angle):\n",
    "    #return y-axis flipped image and flipped steering angle\n",
    "    return (np.fliplr(image), -steering_angle)\n",
    "\n",
    "#randomly translate object (within specified matrix bounds)\n",
    "def perform_translation(image, steering_angle):\n",
    "    #get tanslation matrix along with adjusted steering angle\n",
    "    object_transform_matrix, steering_angle = generate_translation_matrix(image, steering_angle)\n",
    "    #return randomly translated image with adjusted steering angle\n",
    "    return (cv2.warpAffine(image, object_transform_matrix, (image.shape[1], image.shape[0])), steering_angle)\n",
    "\n",
    "#generate a synthetic example from the supplied training example\n",
    "def generate_synthetic_training_example(image, steering_angle):\n",
    "    #list of transformation functions available\n",
    "    #transformation_functions = [perform_translation, perform_brightness_adjustment, perform_y_axis_flip, perform_rotation]\n",
    "    transformation_functions = [perform_translation, perform_brightness_adjustment, perform_y_axis_flip]\n",
    "    #choose the number of transformations to perform at random (between 1 and 3)\n",
    "    num_transformations_to_perform = random.randint(1, len(transformation_functions))\n",
    "    #perform the number of transformations chosen\n",
    "    for _ in range(0, num_transformations_to_perform):\n",
    "        #select a transformation function at random\n",
    "        selected_transformation_function = random.choice(transformation_functions)           \n",
    "        #execute the transformation function and return the result\n",
    "        image, steering_angle = selected_transformation_function(image, steering_angle)\n",
    "        #ensure each transformation can only be performed once by removing it from the list\n",
    "        transformation_functions.remove(selected_transformation_function)\n",
    "    #return transformed image & adjusted steering angle\n",
    "    return (image, steering_angle)\n",
    "\n",
    "#on-the-fly synthetic data generator\n",
    "def generate_synthetic_training_batch(X_train, y_train, batch_size):\n",
    "    #loop forever\n",
    "    while True:\n",
    "        X_train_synthetic = []  #batch of images (after-processing)\n",
    "        y_train_synthetic = []  #batch of steering angles (after-processing)\n",
    "        #shuffle data\n",
    "        X_train, y_train = shuffle(X_train, y_train)\n",
    "        #create enough synthetic images to fill a batch\n",
    "        for i in range(batch_size):\n",
    "            #randomly select an index within X_train (zero indexed)\n",
    "            random_index = np.random.randint(len(X_train))\n",
    "            #load image\n",
    "            image = mpimg.imread(X_train[random_index])\n",
    "            #create a synthetic example based on that image\n",
    "            synthetic_image, steering_angle = generate_synthetic_training_example(image, y_train[random_index])\n",
    "            #append synthetic image\n",
    "            X_train_synthetic.append(synthetic_image)\n",
    "            #append steering angle\n",
    "            y_train_synthetic.append(steering_angle)\n",
    "        #yeild a new batch\n",
    "        yield (np.array(X_train_synthetic), np.array(y_train_synthetic))\n",
    "\n",
    "#generate batches of validation data\n",
    "def generate_validation_batch(X_validation, y_validation, batch_size):\n",
    "    #determine validation set length\n",
    "    num_validation_examples = len(X_validation)\n",
    "    #loop forever\n",
    "    while True:\n",
    "        #shuffle data\n",
    "        X_validation, y_validation = shuffle(X_validation, y_validation)\n",
    "        #walk through the validation set yeilding batches equal to batch size\n",
    "        for offset in range(0, num_validation_examples, batch_size):\n",
    "            yield (X_validation[offset:offset+batch_size], y_validation[offset:offset+batch_size])"
   ]
  },
  {
   "cell_type": "code",
   "execution_count": 18,
   "metadata": {
    "collapsed": false
   },
   "outputs": [
    {
     "name": "stdout",
     "output_type": "stream",
     "text": [
      "Epoch 1/5\n",
      "Epoch 00000: val_loss improved from inf to 0.03369, saving model to model_best.h5\n",
      "87s - loss: 0.0624 - acc: 0.0000e+00 - val_loss: 0.0337 - val_acc: 0.0000e+00\n",
      "Epoch 2/5\n",
      "Epoch 00001: val_loss improved from 0.03369 to 0.03000, saving model to model_best.h5\n",
      "82s - loss: 0.0460 - acc: 0.0000e+00 - val_loss: 0.0300 - val_acc: 0.0000e+00\n",
      "Epoch 3/5\n",
      "Epoch 00002: val_loss improved from 0.03000 to 0.02901, saving model to model_best.h5\n",
      "83s - loss: 0.0424 - acc: 0.0000e+00 - val_loss: 0.0290 - val_acc: 0.0000e+00\n",
      "Epoch 4/5\n",
      "Epoch 00003: val_loss improved from 0.02901 to 0.02706, saving model to model_best.h5\n",
      "83s - loss: 0.0394 - acc: 0.0000e+00 - val_loss: 0.0271 - val_acc: 0.0000e+00\n",
      "Epoch 5/5\n",
      "Epoch 00004: val_loss did not improve\n",
      "84s - loss: 0.0394 - acc: 0.0000e+00 - val_loss: 0.0308 - val_acc: 0.0000e+00\n"
     ]
    }
   ],
   "source": [
    "from keras.callbacks import EarlyStopping, ModelCheckpoint\n",
    "\n",
    "#get a handle to the model\n",
    "model = cnn_model()    \n",
    "#init the optimizer, loss function, and metrics for the model\n",
    "model.compile(optimizer=\"adam\", loss=\"mse\", metrics=['accuracy'])\n",
    "#model.summary()\n",
    "\n",
    "#generates a synthetic batch based on the training data\n",
    "training_generator = generate_synthetic_training_batch(X_train, y_train, batch_size=256)\n",
    "#fetches a batch from the validation data we carved out earlier\n",
    "validation_generator = generate_validation_batch(X_validation, y_validation, batch_size=256)\n",
    "\n",
    "#early stopping and checkpoint\n",
    "callbacks_list = [\n",
    "    EarlyStopping(monitor='val_loss', patience=2, verbose=1, mode='min'),\n",
    "    ModelCheckpoint('model_best.h5', monitor='val_loss', verbose=1, save_best_only=True, \\\n",
    "                    mode='min', save_weights_only=False, period=1)\n",
    "]\n",
    "\n",
    "#fit the model on batches of real-time synthetic data:\n",
    "model.fit_generator(generator=training_generator,\n",
    "                    validation_data=validation_generator,\n",
    "                    samples_per_epoch=25600,\n",
    "                    nb_val_samples=5120,\n",
    "                    nb_epoch=5,\n",
    "                    verbose=2,\n",
    "                    callbacks=callbacks_list)\n",
    "\n",
    "#save the model\n",
    "model.save('model.h5')"
   ]
  },
  {
   "cell_type": "code",
   "execution_count": null,
   "metadata": {
    "collapsed": true
   },
   "outputs": [],
   "source": []
  }
 ],
 "metadata": {
  "anaconda-cloud": {},
  "kernelspec": {
   "display_name": "Python [default]",
   "language": "python",
   "name": "python3"
  },
  "language_info": {
   "codemirror_mode": {
    "name": "ipython",
    "version": 3
   },
   "file_extension": ".py",
   "mimetype": "text/x-python",
   "name": "python",
   "nbconvert_exporter": "python",
   "pygments_lexer": "ipython3",
   "version": "3.5.2"
  }
 },
 "nbformat": 4,
 "nbformat_minor": 2
}
