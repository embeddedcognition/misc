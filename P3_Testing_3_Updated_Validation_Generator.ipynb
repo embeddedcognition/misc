{
 "cells": [
  {
   "cell_type": "code",
   "execution_count": 2,
   "metadata": {
    "collapsed": false
   },
   "outputs": [
    {
     "name": "stdout",
     "output_type": "stream",
     "text": [
      "Num drive log image paths: 11025\n",
      "Num drive log steering angles: 11025\n",
      "Min drive log steering angle: -1.19009861487\n",
      "Max drive log steering angle: 1.24891705026\n"
     ]
    },
    {
     "data": {
      "image/png": "[encoded data removed]",
      "text/plain": [
       "<matplotlib.figure.Figure at 0x7fcd98210a90>"
      ]
     },
     "metadata": {},
     "output_type": "display_data"
    }
   ],
   "source": [
    "import numpy as np\n",
    "import csv\n",
    "import matplotlib.pyplot as plt\n",
    "import matplotlib.image as mpimg\n",
    "%matplotlib inline\n",
    "\n",
    "drive_log_image_paths = [] #file paths (left, center, and right images are all folded in to this vector of image paths)\n",
    "drive_log_steering_angles = [] #steering angle associated with drive_log_image_paths\n",
    "max_angle_offset = 0.25\n",
    "min_angle_offset = 0.2\n",
    "cur_steering_angle = 0.0\n",
    "\n",
    "#load the driving log data (folding in the left, center, and right images into one vector)\n",
    "with open('driving_log.csv') as file_handle:\n",
    "    #view file rows as a dictionary (based on header row)\n",
    "    dict_reader = csv.DictReader(file_handle)\n",
    "    #get current row as dictionary\n",
    "    for cur_dict_line in dict_reader:\n",
    "        #get steering angle from cur_row\n",
    "        cur_steering_angle = float(cur_dict_line['steering']) \n",
    "        #get rid of zero degree angles\n",
    "        if (cur_steering_angle != 0):\n",
    "            #add the left, center, and right image paths from cur_row \n",
    "            drive_log_image_paths.append((cur_dict_line['left']).strip())\n",
    "            drive_log_image_paths.append((cur_dict_line['center']).strip())\n",
    "            drive_log_image_paths.append((cur_dict_line['right']).strip())\n",
    "            #append steering angle + angle offset (for left)\n",
    "            drive_log_steering_angles.append(cur_steering_angle + np.random.uniform(low=min_angle_offset, high=max_angle_offset))\n",
    "            #append center steering angle (no change)\n",
    "            drive_log_steering_angles.append(cur_steering_angle)\n",
    "            #append steering angle - angle offset (for right)\n",
    "            drive_log_steering_angles.append(cur_steering_angle - np.random.uniform(low=min_angle_offset, high=max_angle_offset))\n",
    "        \n",
    "#convert to array\n",
    "drive_log_steering_angles = np.array(drive_log_steering_angles)\n",
    "drive_log_image_paths = np.array(drive_log_image_paths)\n",
    "print(\"Num drive log image paths:\", len(drive_log_image_paths))\n",
    "print(\"Num drive log steering angles:\", len(drive_log_steering_angles))\n",
    "print(\"Min drive log steering angle:\", min(drive_log_steering_angles))\n",
    "print(\"Max drive log steering angle:\", max(drive_log_steering_angles))\n",
    "num_bins = 100\n",
    "plt.hist(drive_log_steering_angles, num_bins, facecolor='g')\n",
    "plt.xlabel('Steering Angle (in degrees)')\n",
    "plt.ylabel('Number of Occurrences')\n",
    "plt.show()"
   ]
  },
  {
   "cell_type": "code",
   "execution_count": 3,
   "metadata": {
    "collapsed": true
   },
   "outputs": [],
   "source": [
    "from sklearn.utils import shuffle\n",
    "\n",
    "#shuffle data\n",
    "drive_log_image_paths, drive_log_steering_angles = shuffle(drive_log_image_paths, drive_log_steering_angles)"
   ]
  },
  {
   "cell_type": "code",
   "execution_count": 4,
   "metadata": {
    "collapsed": false
   },
   "outputs": [
    {
     "name": "stdout",
     "output_type": "stream",
     "text": [
      "X_train shape:  (8820,)\n",
      "y_train shape:  (8820,)\n",
      "X_validation shape:  (2205,)\n",
      "y_validation shape:  (2205,)\n"
     ]
    }
   ],
   "source": [
    "from sklearn.model_selection import train_test_split\n",
    "\n",
    "#carve out a portion of the training set to use for model validation\n",
    "X_train, X_validation, y_train, y_validation = train_test_split(drive_log_image_paths, drive_log_steering_angles, \\\n",
    "                                                                test_size=0.2, random_state=0)\n",
    "print(\"X_train shape: \", X_train.shape)\n",
    "print(\"y_train shape: \", y_train.shape)\n",
    "print(\"X_validation shape: \", X_validation.shape)\n",
    "print(\"y_validation shape: \", y_validation.shape)"
   ]
  },
  {
   "cell_type": "code",
   "execution_count": 5,
   "metadata": {
    "collapsed": false
   },
   "outputs": [
    {
     "name": "stderr",
     "output_type": "stream",
     "text": [
      "Using TensorFlow backend.\n"
     ]
    }
   ],
   "source": [
    "from keras.models import Sequential\n",
    "from keras.layers import Cropping2D, Lambda\n",
    "from keras.layers.core import Dense, Flatten, Dropout\n",
    "from keras.layers.convolutional import Convolution2D\n",
    "\n",
    "#NVIDIA model + dropout\n",
    "def cnn_model(dropout_keep_prob):\n",
    "    #create sequential model (stacked layers)\n",
    "    model = Sequential()\n",
    "    #CROP: Input = 160x320x3, Output = 66x200x3\n",
    "    model.add(Cropping2D(cropping=((70, 24), (60, 60)), input_shape=(160, 320, 3)))\n",
    "    #NORMALIZE (-0.5 to 0.5): Input = 66x200x3, Output = 66x200x3\n",
    "    model.add(Lambda(lambda x: (x - 127.5) / 255))\n",
    "    ## LAYER 1 ##\n",
    "    #CONVOLUTIONAL: Input = 66x200x3, Output = 31x98x24\n",
    "    #filter: 5x5, input depth: 3, output depth: 24\n",
    "    model.add(Convolution2D(24, 5, 5, subsample=(2, 2), border_mode='valid', activation=\"relu\", init='lecun_uniform'))\n",
    "    ## LAYER 2 ##\n",
    "    #CONVOLUTIONAL: Input = 31x98x24, Output = 14x47x36\n",
    "    #filter: 5x5, input depth: 24, output depth: 36\n",
    "    model.add(Convolution2D(36, 5, 5, subsample=(2, 2), border_mode='valid', activation=\"relu\", init='lecun_uniform'))\n",
    "    ## LAYER 3 ##\n",
    "    #CONVOLUTIONAL: Input = 14x47x36, Output = 5x22x48\n",
    "    #filter: 5x5, input depth: 36, output depth: 48\n",
    "    model.add(Convolution2D(48, 5, 5, subsample=(2, 2), border_mode='valid', activation=\"relu\", init='lecun_uniform'))\n",
    "    ## LAYER 4 ##\n",
    "    #CONVOLUTIONAL: Input = 5x22x48, Output = 3x20x64\n",
    "    #filter: 3x3, input depth: 48, output depth: 64\n",
    "    model.add(Convolution2D(64, 3, 3, subsample=(1, 1), border_mode='valid', activation=\"relu\", init='lecun_uniform'))\n",
    "    ## LAYER 5 ##\n",
    "    #CONVOLUTIONAL: Input = 3x20x64, Output = 1x18x64\n",
    "    #filter: 3x3, input depth: 64, output depth: 64\n",
    "    model.add(Convolution2D(64, 3, 3, subsample=(1, 1), border_mode='valid', activation=\"relu\", init='lecun_uniform'))\n",
    "    #FLATTEN INPUT WHILE RETAINING BATCH: Input = 1x18x64, Output = 1152x1\n",
    "    model.add(Flatten())\n",
    "    ## LAYER 6 ##\n",
    "    #FULLY-CONNECTED: Input = 1152, Output = 100\n",
    "    model.add(Dense(100, activation='relu', init='lecun_uniform'))\n",
    "    ## LAYER 7 ##\n",
    "    #FULLY-CONNECTED: Input = 100, Output = 50\n",
    "    model.add(Dense(50, activation='relu', init='lecun_uniform'))\n",
    "    #REGULARIZATION: Dropout\n",
    "    model.add(Dropout(dropout_keep_prob))\n",
    "    ## LAYER 8 ##\n",
    "    #FULLY-CONNECTED: Input = 50, Output = 10\n",
    "    model.add(Dense(10, activation='relu', init='lecun_uniform'))\n",
    "    #REGULARIZATION: Dropout\n",
    "    model.add(Dropout(dropout_keep_prob))\n",
    "    ## OUTPUT LAYER ##\n",
    "    #FULLY-CONNECTED: Input = 10, Output = 1\n",
    "    model.add(Dense(1, init='lecun_uniform'))\n",
    "    #return completed model\n",
    "    return model"
   ]
  },
  {
   "cell_type": "code",
   "execution_count": 6,
   "metadata": {
    "collapsed": true
   },
   "outputs": [],
   "source": [
    "import matplotlib.image as mpimg\n",
    "from sklearn.utils import shuffle\n",
    "import random\n",
    "import cv2\n",
    "\n",
    "#translate (change position of) training example\n",
    "#translation matrix found here: http://docs.opencv.org/trunk/da/d6e/tutorial_py_geometric_transformations.html\n",
    "def generate_translation_matrix(image, steering_angle):\n",
    "    #randomly translate x\n",
    "    translated_x = np.random.uniform(low=-15, high=15)\n",
    "    #adjust steering angle based on x translation\n",
    "    steering_angle += translated_x * 0.003\n",
    "    #randomly translate y\n",
    "    translated_y = np.random.uniform(low=-15, high=15)\n",
    "    #return translation matrix based on above values\n",
    "    return (np.float32([[1, 0, translated_x],[0, 1, translated_y]]), steering_angle)\n",
    "\n",
    "#perform brightness adjustment (brighten or darken)\n",
    "def perform_brightness_adjustment(image, steering_angle):\n",
    "    #convert RGB to HSV\n",
    "    hsv = cv2.cvtColor(image, cv2.COLOR_RGB2HSV)\n",
    "    #randomly adjust V channel\n",
    "    hsv[:, :, 2] = hsv[:, :, 2] * np.random.uniform(low=0.2, high=1.0)\n",
    "    #convert back to RGB and return (steering angle is unaltered)\n",
    "    return (cv2.cvtColor(hsv, cv2.COLOR_HSV2RGB), steering_angle)\n",
    "\n",
    "#perform y-axis flip\n",
    "def perform_y_axis_flip(image, steering_angle):\n",
    "    #return y-axis flipped image and flipped steering angle\n",
    "    return (np.fliplr(image), -steering_angle)\n",
    "\n",
    "#randomly translate object (within specified matrix bounds)\n",
    "def perform_translation(image, steering_angle):\n",
    "    #get tanslation matrix along with adjusted steering angle\n",
    "    object_transform_matrix, steering_angle = generate_translation_matrix(image, steering_angle)\n",
    "    #return randomly translated image with adjusted steering angle\n",
    "    return (cv2.warpAffine(image, object_transform_matrix, (image.shape[1], image.shape[0])), steering_angle)\n",
    "\n",
    "#generate a synthetic example from the supplied training example\n",
    "def generate_synthetic_training_example(image, steering_angle):\n",
    "    #list of transformation functions available\n",
    "    transformation_functions = [perform_translation, perform_brightness_adjustment, perform_y_axis_flip]\n",
    "    #choose the number of transformations to perform at random (between 1 and 3)\n",
    "    num_transformations_to_perform = random.randint(1, len(transformation_functions))\n",
    "    #perform the number of transformations chosen\n",
    "    for _ in range(0, num_transformations_to_perform):\n",
    "        #select a transformation function at random\n",
    "        selected_transformation_function = random.choice(transformation_functions)           \n",
    "        #execute the transformation function and return the result\n",
    "        image, steering_angle = selected_transformation_function(image, steering_angle)\n",
    "        #ensure each transformation can only be performed once by removing it from the list\n",
    "        transformation_functions.remove(selected_transformation_function)\n",
    "    #return transformed image & adjusted steering angle\n",
    "    return (image, steering_angle)\n",
    "\n",
    "#on-the-fly synthetic data generator\n",
    "def generate_synthetic_training_batch(X_train, y_train, batch_size):\n",
    "    #loop forever\n",
    "    while True:\n",
    "        X_train_synthetic = []  #batch of images (after-processing)\n",
    "        y_train_synthetic = []  #batch of steering angles (after-processing)\n",
    "        #shuffle data\n",
    "        X_train, y_train = shuffle(X_train, y_train)\n",
    "        #create enough synthetic images to fill a batch\n",
    "        for i in range(batch_size):\n",
    "            #randomly select an index within X_train (zero indexed)\n",
    "            random_index = np.random.randint(len(X_train))\n",
    "            #load image\n",
    "            image = mpimg.imread(X_train[random_index])\n",
    "            #create a synthetic example based on that image\n",
    "            synthetic_image, steering_angle = generate_synthetic_training_example(image, y_train[random_index])\n",
    "            #append synthetic image\n",
    "            X_train_synthetic.append(synthetic_image)\n",
    "            #append steering angle\n",
    "            y_train_synthetic.append(steering_angle)\n",
    "        #yeild a new batch\n",
    "        yield (np.array(X_train_synthetic), np.array(y_train_synthetic))\n",
    "\n",
    "#generate batches of validation data\n",
    "def generate_validation_batch(X_validation, y_validation, batch_size):\n",
    "    #determine validation set length\n",
    "    num_validation_examples = len(X_validation)\n",
    "    #loop forever\n",
    "    while True:\n",
    "        #shuffle data\n",
    "        X_validation, y_validation = shuffle(X_validation, y_validation)\n",
    "        #walk through validation set loading image batches equal to batch size and yielding them\n",
    "        for offset in range(0, num_validation_examples, batch_size):\n",
    "            #temp list to store loaded images\n",
    "            X_validation_image_batch = []\n",
    "            #get the current batch of image paths\n",
    "            cur_image_path_batch = X_validation[offset:offset+batch_size]\n",
    "            #load images from paths contained in a particular X_validation batch-set \n",
    "            for image_path in cur_image_path_batch:\n",
    "                #load image\n",
    "                image = mpimg.imread(image_path)\n",
    "                #append to validation image batch list\n",
    "                X_validation_image_batch.append(image)\n",
    "            #yeild batch\n",
    "            yield (np.array(X_validation_image_batch), y_validation[offset:offset+batch_size])"
   ]
  },
  {
   "cell_type": "code",
   "execution_count": 10,
   "metadata": {
    "collapsed": false
   },
   "outputs": [
    {
     "name": "stdout",
     "output_type": "stream",
     "text": [
      "Epoch 1/4\n"
     ]
    },
    {
     "ename": "KeyboardInterrupt",
     "evalue": "",
     "output_type": "error",
     "traceback": [
      "\u001b[0;31m---------------------------------------------------------------------------\u001b[0m",
      "\u001b[0;31mKeyboardInterrupt\u001b[0m                         Traceback (most recent call last)",
      "\u001b[0;32m<ipython-input-10-278c8cea28c0>\u001b[0m in \u001b[0;36m<module>\u001b[0;34m()\u001b[0m\n\u001b[1;32m     28\u001b[0m                     \u001b[0mnb_epoch\u001b[0m\u001b[0;34m=\u001b[0m\u001b[0;36m4\u001b[0m\u001b[0;34m,\u001b[0m\u001b[0;34m\u001b[0m\u001b[0m\n\u001b[1;32m     29\u001b[0m                     \u001b[0mverbose\u001b[0m\u001b[0;34m=\u001b[0m\u001b[0;36m2\u001b[0m\u001b[0;34m,\u001b[0m\u001b[0;34m\u001b[0m\u001b[0m\n\u001b[0;32m---> 30\u001b[0;31m                     callbacks=callbacks_list)\n\u001b[0m",
      "\u001b[0;32m/home/ec2-user/miniconda3/lib/python3.5/site-packages/keras/models.py\u001b[0m in \u001b[0;36mfit_generator\u001b[0;34m(self, generator, samples_per_epoch, nb_epoch, verbose, callbacks, validation_data, nb_val_samples, class_weight, max_q_size, nb_worker, pickle_safe, initial_epoch, **kwargs)\u001b[0m\n\u001b[1;32m    933\u001b[0m                                         \u001b[0mnb_worker\u001b[0m\u001b[0;34m=\u001b[0m\u001b[0mnb_worker\u001b[0m\u001b[0;34m,\u001b[0m\u001b[0;34m\u001b[0m\u001b[0m\n\u001b[1;32m    934\u001b[0m                                         \u001b[0mpickle_safe\u001b[0m\u001b[0;34m=\u001b[0m\u001b[0mpickle_safe\u001b[0m\u001b[0;34m,\u001b[0m\u001b[0;34m\u001b[0m\u001b[0m\n\u001b[0;32m--> 935\u001b[0;31m                                         initial_epoch=initial_epoch)\n\u001b[0m\u001b[1;32m    936\u001b[0m \u001b[0;34m\u001b[0m\u001b[0m\n\u001b[1;32m    937\u001b[0m     def evaluate_generator(self, generator, val_samples,\n",
      "\u001b[0;32m/home/ec2-user/miniconda3/lib/python3.5/site-packages/keras/engine/training.py\u001b[0m in \u001b[0;36mfit_generator\u001b[0;34m(self, generator, samples_per_epoch, nb_epoch, verbose, callbacks, validation_data, nb_val_samples, class_weight, max_q_size, nb_worker, pickle_safe, initial_epoch)\u001b[0m\n\u001b[1;32m   1520\u001b[0m                             \u001b[0;32mbreak\u001b[0m\u001b[0;34m\u001b[0m\u001b[0m\n\u001b[1;32m   1521\u001b[0m                         \u001b[0;32melse\u001b[0m\u001b[0;34m:\u001b[0m\u001b[0;34m\u001b[0m\u001b[0m\n\u001b[0;32m-> 1522\u001b[0;31m                             \u001b[0mtime\u001b[0m\u001b[0;34m.\u001b[0m\u001b[0msleep\u001b[0m\u001b[0;34m(\u001b[0m\u001b[0mwait_time\u001b[0m\u001b[0;34m)\u001b[0m\u001b[0;34m\u001b[0m\u001b[0m\n\u001b[0m\u001b[1;32m   1523\u001b[0m \u001b[0;34m\u001b[0m\u001b[0m\n\u001b[1;32m   1524\u001b[0m                     \u001b[0;32mif\u001b[0m \u001b[0;32mnot\u001b[0m \u001b[0mhasattr\u001b[0m\u001b[0;34m(\u001b[0m\u001b[0mgenerator_output\u001b[0m\u001b[0;34m,\u001b[0m \u001b[0;34m'__len__'\u001b[0m\u001b[0;34m)\u001b[0m\u001b[0;34m:\u001b[0m\u001b[0;34m\u001b[0m\u001b[0m\n",
      "\u001b[0;31mKeyboardInterrupt\u001b[0m: "
     ]
    }
   ],
   "source": [
    "from keras.callbacks import EarlyStopping, ModelCheckpoint, LambdaCallback\n",
    "\n",
    "#get a handle to the model\n",
    "model = cnn_model(dropout_keep_prob=0.5)    \n",
    "\n",
    "#init the optimizer, loss function, and metrics for the model\n",
    "model.compile(optimizer=\"adam\", loss=\"mse\", metrics=['accuracy'])\n",
    "\n",
    "#init generators\n",
    "#generates a synthetic batch based on the training data\n",
    "training_generator = generate_synthetic_training_batch(X_train, y_train, batch_size=256)\n",
    "#fetches a batch from the validation data we carved out earlier (loading images on-the-fly)\n",
    "validation_generator = generate_validation_batch(X_validation, y_validation, batch_size=256)\n",
    "\n",
    "#define training callbacks\n",
    "callbacks_list = [\n",
    "    #stop if we're not improving\n",
    "    EarlyStopping(monitor='val_loss', patience=2, verbose=1, mode='min'),\n",
    "    #save only the best model\n",
    "    ModelCheckpoint('model.h5', monitor='val_loss', verbose=1, save_best_only=True, mode='min', save_weights_only=False, period=1)\n",
    "]\n",
    "\n",
    "#fit the model on batches of real-time synthetic data:\n",
    "model.fit_generator(generator=training_generator,\n",
    "                    validation_data=validation_generator,\n",
    "                    samples_per_epoch=25600,\n",
    "                    nb_val_samples=5120,\n",
    "                    nb_epoch=4,\n",
    "                    verbose=2,\n",
    "                    callbacks=callbacks_list)"
   ]
  },
  {
   "cell_type": "code",
   "execution_count": null,
   "metadata": {
    "collapsed": true
   },
   "outputs": [],
   "source": []
  }
 ],
 "metadata": {
  "anaconda-cloud": {},
  "kernelspec": {
   "display_name": "Python [default]",
   "language": "python",
   "name": "python3"
  },
  "language_info": {
   "codemirror_mode": {
    "name": "ipython",
    "version": 3
   },
   "file_extension": ".py",
   "mimetype": "text/x-python",
   "name": "python",
   "nbconvert_exporter": "python",
   "pygments_lexer": "ipython3",
   "version": "3.5.2"
  }
 },
 "nbformat": 4,
 "nbformat_minor": 2
}
